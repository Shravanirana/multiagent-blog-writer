{
  "cells": [
    {
      "cell_type": "code",
      "execution_count": null,
      "metadata": {},
      "outputs": [],
      "source": [
        "# \ud83d\udccc Cell 1: Install OpenAI (if not already installed)\n",
        "!pip install openai --quiet"
      ]
    },
    {
      "cell_type": "code",
      "execution_count": null,
      "metadata": {},
      "outputs": [],
      "source": [
        "# \ud83d\udccc Cell 2: Import necessary modules and set API key\n",
        "\n",
        "import openai\n",
        "import getpass\n",
        "\n",
        "# \ud83d\udd10 Secure API key input\n",
        "openai.api_key = getpass.getpass(\"Enter your OpenAI API key: \")"
      ]
    },
    {
      "cell_type": "code",
      "execution_count": null,
      "metadata": {},
      "outputs": [],
      "source": [
        "# \ud83d\udccc Cell 3: Define Multi-Agent Functions\n",
        "\n",
        "def research_agent(topic):\n",
        "    prompt = f\"Research and provide key points, facts, and insights on: {topic}. Include recent data and trends if applicable.\"\n",
        "    response = openai.ChatCompletion.create(\n",
        "        model=\"gpt-4\",\n",
        "        messages=[{\"role\": \"user\", \"content\": prompt}]\n",
        "    )\n",
        "    return response.choices[0].message.content.strip()\n",
        "\n",
        "def outline_agent(research_notes):\n",
        "    prompt = f\"Using the following research notes, create a structured outline for a blog post:\\n\\n{research_notes}\"\n",
        "    response = openai.ChatCompletion.create(\n",
        "        model=\"gpt-4\",\n",
        "        messages=[{\"role\": \"user\", \"content\": prompt}]\n",
        "    )\n",
        "    return response.choices[0].message.content.strip()\n",
        "\n",
        "def writing_agent(outline, research_notes):\n",
        "    prompt = f\"Write a blog post using the following outline and research notes:\\n\\nOutline:\\n{outline}\\n\\nResearch:\\n{research_notes}\"\n",
        "    response = openai.ChatCompletion.create(\n",
        "        model=\"gpt-4\",\n",
        "        messages=[{\"role\": \"user\", \"content\": prompt}]\n",
        "    )\n",
        "    return response.choices[0].message.content.strip()\n",
        "\n",
        "def review_agent(draft):\n",
        "    prompt = f\"Review the following blog post draft for grammar, clarity, tone, and SEO. Suggest edits and improvements:\\n\\n{draft}\"\n",
        "    response = openai.ChatCompletion.create(\n",
        "        model=\"gpt-4\",\n",
        "        messages=[{\"role\": \"user\", \"content\": prompt}]\n",
        "    )\n",
        "    return response.choices[0].message.content.strip()"
      ]
    },
    {
      "cell_type": "code",
      "execution_count": null,
      "metadata": {},
      "outputs": [],
      "source": [
        "# \ud83d\udccc Cell 4: Master function to coordinate agents\n",
        "\n",
        "def multiagent_blog_writer(topic):\n",
        "    print(f\"\\n\ud83d\udd0e Researching: {topic}\")\n",
        "    research = research_agent(topic)\n",
        "\n",
        "    print(\"\\n\ud83e\uddf1 Creating Outline...\")\n",
        "    outline = outline_agent(research)\n",
        "\n",
        "    print(\"\\n\u270d\ufe0f Writing Draft...\")\n",
        "    draft = writing_agent(outline, research)\n",
        "\n",
        "    print(\"\\n\ud83d\udd0d Reviewing Draft...\")\n",
        "    review = review_agent(draft)\n",
        "\n",
        "    return {\n",
        "        \"Research\": research,\n",
        "        \"Outline\": outline,\n",
        "        \"Draft\": draft,\n",
        "        \"Review\": review\n",
        "    }"
      ]
    },
    {
      "cell_type": "code",
      "execution_count": null,
      "metadata": {},
      "outputs": [],
      "source": [
        "# \ud83d\udccc Cell 5: Run the system with user input\n",
        "\n",
        "user_topic = input(\"\ud83d\udcdd Enter your blog topic: \")\n",
        "result = multiagent_blog_writer(user_topic)\n",
        "\n",
        "# Display results section-wise\n",
        "for section, content in result.items():\n",
        "    print(f\"\\n\ud83e\udde9 === {section.upper()} ===\\n\")\n",
        "    print(content)"
      ]
    }
  ],
  "metadata": {
    "kernelspec": {
      "display_name": "Python 3",
      "language": "python",
      "name": "python3"
    },
    "language_info": {
      "name": "python",
      "version": "3.x"
    }
  },
  "nbformat": 4,
  "nbformat_minor": 5
}