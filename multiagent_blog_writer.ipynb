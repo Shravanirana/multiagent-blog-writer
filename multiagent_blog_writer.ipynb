{
  "cells": [
    {
      "cell_type": "code",
      "execution_count": null,
      "metadata": {},
      "outputs": [],
      "source": [
        "!pip install openai --quiet"
      ]
    },
    {
      "cell_type": "code",
      "execution_count": null,
      "metadata": {},
      "outputs": [],
      "source": [
        "import openai\n",
        "import getpass\n",
        "\n",
        "openai.api_key = getpass.getpass(\"Enter your OpenAI API key: \")"
      ]
    },
    {
      "cell_type": "code",
      "execution_count": null,
      "metadata": {},
      "outputs": [],
      "source": [
        "\n",
        "def research_agent(topic):\n",
        "    prompt = f\"Research and provide key points, facts, and insights on: {topic}. Include recent data and trends if applicable.\"\n",
        "    response = openai.ChatCompletion.create(\n",
        "        model=\"gpt-4\",\n",
        "        messages=[{\"role\": \"user\", \"content\": prompt}]\n",
        "    )\n",
        "    return response.choices[0].message.content.strip()\n",
        "\n",
        "def outline_agent(research_notes):\n",
        "    prompt = f\"Using the following research notes, create a structured outline for a blog post:\\n\\n{research_notes}\"\n",
        "    response = openai.ChatCompletion.create(\n",
        "        model=\"gpt-4\",\n",
        "        messages=[{\"role\": \"user\", \"content\": prompt}]\n",
        "    )\n",
        "    return response.choices[0].message.content.strip()\n",
        "\n",
        "def writing_agent(outline, research_notes):\n",
        "    prompt = f\"Write a blog post using the following outline and research notes:\\n\\nOutline:\\n{outline}\\n\\nResearch:\\n{research_notes}\"\n",
        "    response = openai.ChatCompletion.create(\n",
        "        model=\"gpt-4\",\n",
        "        messages=[{\"role\": \"user\", \"content\": prompt}]\n",
        "    )\n",
        "    return response.choices[0].message.content.strip()\n",
        "\n",
        "def review_agent(draft):\n",
        "    prompt = f\"Review the following blog post draft for grammar, clarity, tone, and SEO. Suggest edits and improvements:\\n\\n{draft}\"\n",
        "    response = openai.ChatCompletion.create(\n",
        "        model=\"gpt-4\",\n",
        "        messages=[{\"role\": \"user\", \"content\": prompt}]\n",
        "    )\n",
        "    return response.choices[0].message.content.strip()"
      ]
    },
    {
      "cell_type": "code",
      "execution_count": null,
      "metadata": {},
      "outputs": [],
      "source": [
        "\n",
        "def multiagent_blog_writer(topic):\n",
        "    print(f\"\\n Researching: {topic}\")\n",
        "    research = research_agent(topic)\n",
        "\n",
        "    print(\"\\n Creating Outline...\")\n",
        "    outline = outline_agent(research)\n",
        "\n",
        "    print(\"\\n Writing Draft...\")\n",
        "    draft = writing_agent(outline, research)\n",
        "\n",
        "    print(\"\\n Reviewing Draft...\")\n",
        "    review = review_agent(draft)\n",
        "\n",
        "    return {\n",
        "        \"Research\": research,\n",
        "        \"Outline\": outline,\n",
        "        \"Draft\": draft,\n",
        "        \"Review\": review\n",
        "    }"
      ]
    },
    {
      "cell_type": "code",
      "execution_count": null,
      "metadata": {},
      "outputs": [],
      "source": [
        "\n",
        "user_topic = input(\"📝 Enter your blog topic: \")\n",
        "result = multiagent_blog_writer(user_topic)\n",
        "\n",
        "for section, content in result.items():\n",
        "    print(f\"\\n🧩 === {section.upper()} ===\\n\")\n",
        "    print(content)"
      ]
    }
  ],
  "metadata": {
    "kernelspec": {
      "display_name": "Python 3",
      "language": "python",
      "name": "python3"
    },
    "language_info": {
      "name": "python",
      "version": "3.x"
    }
  },
  "nbformat": 4,
  "nbformat_minor": 5
}
